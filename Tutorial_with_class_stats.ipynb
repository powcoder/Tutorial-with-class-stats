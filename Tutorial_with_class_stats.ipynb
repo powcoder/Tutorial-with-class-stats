{
 "cells": [
  {
   "cell_type": "markdown",
   "metadata": {},
   "source": [
    "The below table shows the top 5 entries in the dataset."
   ]
  },
  {
   "cell_type": "code",
   "execution_count": 3,
   "metadata": {},
   "outputs": [
    {
     "data": {
      "text/html": [
       "<div>\n",
       "<style scoped>\n",
       "    .dataframe tbody tr th:only-of-type {\n",
       "        vertical-align: middle;\n",
       "    }\n",
       "\n",
       "    .dataframe tbody tr th {\n",
       "        vertical-align: top;\n",
       "    }\n",
       "\n",
       "    .dataframe thead th {\n",
       "        text-align: right;\n",
       "    }\n",
       "</style>\n",
       "<table border=\"1\" class=\"dataframe\">\n",
       "  <thead>\n",
       "    <tr style=\"text-align: right;\">\n",
       "      <th></th>\n",
       "      <th>Q1a</th>\n",
       "      <th>Q1b</th>\n",
       "      <th>Q2: CSE 3241 or CSE 5241</th>\n",
       "      <th>Q2: CSE 2331 or 5331</th>\n",
       "      <th>Q2: Stats 3301</th>\n",
       "      <th>Q2: ISE 3200</th>\n",
       "      <th>Q3: Numerical Methods</th>\n",
       "      <th>Q3: Linear Algebra</th>\n",
       "      <th>Q3: Prob and Stats</th>\n",
       "      <th>Q3: Data &amp; Discrete Structures</th>\n",
       "      <th>Q3: Algorithms</th>\n",
       "      <th>Q4: R</th>\n",
       "      <th>Q4: Python</th>\n",
       "      <th>Q4: IDEs</th>\n",
       "      <th>Q4: Jupyter</th>\n",
       "    </tr>\n",
       "  </thead>\n",
       "  <tbody>\n",
       "    <tr>\n",
       "      <th>0</th>\n",
       "      <td>CSE</td>\n",
       "      <td>Undergrad</td>\n",
       "      <td>yes</td>\n",
       "      <td>yes</td>\n",
       "      <td>no</td>\n",
       "      <td>no</td>\n",
       "      <td>0</td>\n",
       "      <td>1</td>\n",
       "      <td>2</td>\n",
       "      <td>2</td>\n",
       "      <td>1</td>\n",
       "      <td>1</td>\n",
       "      <td>2.0</td>\n",
       "      <td>2</td>\n",
       "      <td>0</td>\n",
       "    </tr>\n",
       "    <tr>\n",
       "      <th>1</th>\n",
       "      <td>Other</td>\n",
       "      <td>Grad</td>\n",
       "      <td>no</td>\n",
       "      <td>yes</td>\n",
       "      <td>no</td>\n",
       "      <td>no</td>\n",
       "      <td>3</td>\n",
       "      <td>3</td>\n",
       "      <td>2</td>\n",
       "      <td>2</td>\n",
       "      <td>2</td>\n",
       "      <td>1</td>\n",
       "      <td>2.0</td>\n",
       "      <td>0</td>\n",
       "      <td>2</td>\n",
       "    </tr>\n",
       "    <tr>\n",
       "      <th>2</th>\n",
       "      <td>CSE</td>\n",
       "      <td>Undergrad</td>\n",
       "      <td>yes</td>\n",
       "      <td>yes</td>\n",
       "      <td>no</td>\n",
       "      <td>no</td>\n",
       "      <td>0</td>\n",
       "      <td>2</td>\n",
       "      <td>2</td>\n",
       "      <td>2</td>\n",
       "      <td>2</td>\n",
       "      <td>0</td>\n",
       "      <td>2.5</td>\n",
       "      <td>2</td>\n",
       "      <td>2</td>\n",
       "    </tr>\n",
       "    <tr>\n",
       "      <th>3</th>\n",
       "      <td>Other</td>\n",
       "      <td>Grad</td>\n",
       "      <td>no</td>\n",
       "      <td>no</td>\n",
       "      <td>no</td>\n",
       "      <td>no</td>\n",
       "      <td>1</td>\n",
       "      <td>2</td>\n",
       "      <td>2</td>\n",
       "      <td>2</td>\n",
       "      <td>1</td>\n",
       "      <td>0</td>\n",
       "      <td>2.0</td>\n",
       "      <td>2</td>\n",
       "      <td>2</td>\n",
       "    </tr>\n",
       "    <tr>\n",
       "      <th>4</th>\n",
       "      <td>Other</td>\n",
       "      <td>Grad</td>\n",
       "      <td>yes</td>\n",
       "      <td>yes</td>\n",
       "      <td>no</td>\n",
       "      <td>no</td>\n",
       "      <td>2</td>\n",
       "      <td>2</td>\n",
       "      <td>2</td>\n",
       "      <td>1</td>\n",
       "      <td>2</td>\n",
       "      <td>0</td>\n",
       "      <td>1.0</td>\n",
       "      <td>1</td>\n",
       "      <td>1</td>\n",
       "    </tr>\n",
       "  </tbody>\n",
       "</table>\n",
       "</div>"
      ],
      "text/plain": [
       "     Q1a        Q1b Q2: CSE 3241 or CSE 5241 Q2: CSE 2331 or 5331  \\\n",
       "0    CSE  Undergrad                      yes                  yes   \n",
       "1  Other       Grad                       no                  yes   \n",
       "2    CSE  Undergrad                      yes                  yes   \n",
       "3  Other       Grad                       no                   no   \n",
       "4  Other       Grad                      yes                  yes   \n",
       "\n",
       "  Q2: Stats 3301 Q2: ISE 3200  Q3: Numerical Methods  Q3: Linear Algebra  \\\n",
       "0             no           no                      0                   1   \n",
       "1             no           no                      3                   3   \n",
       "2             no           no                      0                   2   \n",
       "3             no           no                      1                   2   \n",
       "4             no           no                      2                   2   \n",
       "\n",
       "   Q3: Prob and Stats  Q3: Data & Discrete Structures  Q3: Algorithms  Q4: R  \\\n",
       "0                   2                               2               1      1   \n",
       "1                   2                               2               2      1   \n",
       "2                   2                               2               2      0   \n",
       "3                   2                               2               1      0   \n",
       "4                   2                               1               2      0   \n",
       "\n",
       "   Q4: Python  Q4: IDEs  Q4: Jupyter  \n",
       "0         2.0         2            0  \n",
       "1         2.0         0            2  \n",
       "2         2.5         2            2  \n",
       "3         2.0         2            2  \n",
       "4         1.0         1            1  "
      ]
     },
     "execution_count": 3,
     "metadata": {},
     "output_type": "execute_result"
    }
   ],
   "source": [
    "import pandas as pd\n",
    "df = pd.read_csv(\"./data/survey.csv\")\n",
    "df.head()"
   ]
  },
  {
   "cell_type": "markdown",
   "metadata": {},
   "source": [
    "Lets first check what the distribution of the class is in terms of the disciplines."
   ]
  },
  {
   "cell_type": "code",
   "execution_count": 42,
   "metadata": {},
   "outputs": [
    {
     "name": "stdout",
     "output_type": "stream",
     "text": [
      "Q1a\n",
      "CSE      11\n",
      "ME        2\n",
      "Math      1\n",
      "Other    12\n",
      "Stats     3\n",
      "dtype: int64\n"
     ]
    },
    {
     "data": {
      "image/png": "[encoded data removed]",
      "text/plain": [
       "<Figure size 1296x576 with 1 Axes>"
      ]
     },
     "metadata": {},
     "output_type": "display_data"
    }
   ],
   "source": [
    "import matplotlib.pyplot as plt\n",
    "\n",
    "# Pie chart, where the slices will be ordered and plotted counter-clockwise:\n",
    "# explode = [0.2, 0.1, 0.1, 0.1]\n",
    "# create split\n",
    "sizes = df.groupby('Q1a').size()\n",
    "print(sizes)\n",
    "fig1, ax1 = plt.subplots(figsize=(18,8)) # <-- Increase the size of the plot\n",
    "\n",
    "ax1.pie(sizes, autopct='%1.1f%%', shadow=False, startangle=90)\n",
    "ax1.set_title('Spread of the class')\n",
    "\n",
    "ax1.legend(sizes.index)\n",
    "ax1.axis('equal')  # Equal aspect ratio ensures that pie is drawn as a circle.\n",
    "\n",
    "plt.show()"
   ]
  },
  {
   "cell_type": "markdown",
   "metadata": {},
   "source": [
    "What about the class in terms of their progress towards their degree. How many graduate and undergraduate students are there in the class ?"
   ]
  },
  {
   "cell_type": "code",
   "execution_count": 35,
   "metadata": {},
   "outputs": [
    {
     "data": {
      "text/plain": [
       "<BarContainer object of 2 artists>"
      ]
     },
     "execution_count": 35,
     "metadata": {},
     "output_type": "execute_result"
    },
    {
     "data": {
      "image/png": "[encoded data removed]",
      "text/plain": [
       "<Figure size 576x648 with 1 Axes>"
      ]
     },
     "metadata": {
      "needs_background": "light"
     },
     "output_type": "display_data"
    }
   ],
   "source": [
    "import numpy as np\n",
    "\n",
    "# this configuration is used by pandas .hist call below.\n",
    "fig, ax = plt.subplots(figsize=(8,9))\n",
    "\n",
    "ax.set_title(\"Degrees\")\n",
    "ax.set_ylabel(\"Freq.\")\n",
    "\n",
    "sizes = df.groupby('Q1b').size()\n",
    "ax.set_xticklabels(sizes.index)\n",
    "ax.set_xticks(range(len(sizes.index)))\n",
    "# pandas has some common builtin matplotlib plots that are useful in doing common analysis\n",
    "ax.bar(range(len(sizes.index)), sizes, align='center', alpha=0.5)"
   ]
  },
  {
   "cell_type": "markdown",
   "metadata": {},
   "source": [
    "Those who havent taken stats 3301, I want to know what the distribution of their scores are for Q3: Probability and Statistics"
   ]
  },
  {
   "cell_type": "code",
   "execution_count": 39,
   "metadata": {},
   "outputs": [
    {
     "data": {
      "text/plain": [
       "<BarContainer object of 3 artists>"
      ]
     },
     "execution_count": 39,
     "metadata": {},
     "output_type": "execute_result"
    },
    {
     "data": {
      "image/png": "[encoded data removed]",
      "text/plain": [
       "<Figure size 576x648 with 1 Axes>"
      ]
     },
     "metadata": {
      "needs_background": "light"
     },
     "output_type": "display_data"
    }
   ],
   "source": [
    "import numpy as np\n",
    "\n",
    "# this configuration is used by pandas .hist call below.\n",
    "fig, ax = plt.subplots(figsize=(8,9))\n",
    "\n",
    "ax.set_title(\"Histogram of Q3: Probability and Statistics of students who didnt take stats 3301\")\n",
    "ax.set_ylabel(\"Freq.\")\n",
    "ax.set_xlabel(\"proficency\")\n",
    "# pandas has some common builtin matplotlib plots that are useful in doing common analysis\n",
    "filtered_df = df[df['Q2: Stats 3301'] == \"no\"]\n",
    "\n",
    "\n",
    "sizes = filtered_df.groupby('Q3: Prob and Stats').size()\n",
    "ax.set_xticklabels(sizes.index)\n",
    "ax.set_xticks(range(len(sizes.index)))\n",
    "# pandas has some common builtin matplotlib plots that are useful in doing common analysis\n",
    "ax.bar(range(len(sizes.index)), sizes, align='center', alpha=0.5)"
   ]
  },
  {
   "cell_type": "markdown",
   "metadata": {},
   "source": [
    "Where:\n",
    "    0. Zilch\n",
    "    1. beginner\n",
    "    2. intermediate\n",
    "    3. expert"
   ]
  },
  {
   "cell_type": "markdown",
   "metadata": {},
   "source": [
    "What about those who did take the class ?"
   ]
  },
  {
   "cell_type": "code",
   "execution_count": 43,
   "metadata": {},
   "outputs": [
    {
     "data": {
      "text/plain": [
       "<BarContainer object of 2 artists>"
      ]
     },
     "execution_count": 43,
     "metadata": {},
     "output_type": "execute_result"
    },
    {
     "data": {
      "image/png": "[encoded data removed]",
      "text/plain": [
       "<Figure size 576x648 with 1 Axes>"
      ]
     },
     "metadata": {
      "needs_background": "light"
     },
     "output_type": "display_data"
    }
   ],
   "source": [
    "import numpy as np\n",
    "\n",
    "# this configuration is used by pandas .hist call below.\n",
    "fig, ax = plt.subplots(figsize=(8,9))\n",
    "\n",
    "ax.set_title(\"Histogram of Q3: Probability and Statistics of students who did take stats 3301\")\n",
    "ax.set_ylabel(\"Freq.\")\n",
    "ax.set_xlabel(\"proficency\")\n",
    "# pandas has some common builtin matplotlib plots that are useful in doing common analysis\n",
    "filtered_df = df[df['Q2: Stats 3301'] == \"yes\"]\n",
    "\n",
    "\n",
    "sizes = filtered_df.groupby('Q3: Prob and Stats').size()\n",
    "ax.set_xticklabels(sizes.index)\n",
    "ax.set_xticks(range(len(sizes.index)))\n",
    "# pandas has some common builtin matplotlib plots that are useful in doing common analysis\n",
    "ax.bar(range(len(sizes.index)), sizes, align='center', alpha=0.5)"
   ]
  },
  {
   "cell_type": "code",
   "execution_count": null,
   "metadata": {},
   "outputs": [],
   "source": []
  }
 ],
 "metadata": {
  "kernelspec": {
   "display_name": "Python 3",
   "language": "python",
   "name": "python3"
  },
  "language_info": {
   "codemirror_mode": {
    "name": "ipython",
    "version": 3
   },
   "file_extension": ".py",
   "mimetype": "text/x-python",
   "name": "python",
   "nbconvert_exporter": "python",
   "pygments_lexer": "ipython3",
   "version": "3.7.4"
  }
 },
 "nbformat": 4,
 "nbformat_minor": 2
}
